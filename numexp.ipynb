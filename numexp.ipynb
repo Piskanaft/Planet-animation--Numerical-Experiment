{
 "cells": [
  {
   "cell_type": "code",
   "execution_count": 1,
   "metadata": {},
   "outputs": [
    {
     "name": "stdout",
     "output_type": "stream",
     "text": [
      "pygame 2.1.2 (SDL 2.0.18, Python 3.10.4)\n",
      "Hello from the pygame community. https://www.pygame.org/contribute.html\n"
     ]
    }
   ],
   "source": [
    "\n",
    "import matplotlib.pyplot as plt\n",
    "\n",
    "plt.style.use('classic')\n",
    "\n",
    "from skyfield.api import load\n",
    "\n",
    "import pygame\n",
    "import time\n",
    "import numpy as np"
   ]
  },
  {
   "cell_type": "markdown",
   "metadata": {},
   "source": [
    "## Calculations"
   ]
  },
  {
   "cell_type": "code",
   "execution_count": 2,
   "metadata": {},
   "outputs": [],
   "source": [
    "ts = load.timescale()\n",
    "\n",
    "time_range = ts.utc(1970,7 , range(1,10000))\n",
    "planets = load('de421.bsp')\n",
    "sun = planets['sun']\n"
   ]
  },
  {
   "cell_type": "code",
   "execution_count": 3,
   "metadata": {},
   "outputs": [],
   "source": [
    "RADIUS=40\n",
    "SUN = 400 # screen pos. in pixels\n",
    "WHITE = (255, 255, 255)\n",
    "YELLOW = (255, 255, 0)\n",
    "BLUE = (100, 149, 237)\n",
    "RED = (188, 39, 50)\n",
    "DARK_GREY = (80, 78, 81)\n",
    "GREEN = (0,100,0)\n",
    "ORANGE = (255,140,0)\n",
    "DARK_ORANGE = (196, 123, 27)\n",
    "\n",
    "SCALE = 300 / 1.524\n"
   ]
  },
  {
   "cell_type": "code",
   "execution_count": 4,
   "metadata": {},
   "outputs": [],
   "source": [
    "class Planet():\n",
    "    def __init__(self,object,name,radius=None,color=None,year_l=None,pic=None):\n",
    "        planet = planets[object]\n",
    "        \n",
    "        self.at_tr = planet.at(time_range)\n",
    "        self.pos = (planet.at(time_range) - sun.at(time_range)).position.au\n",
    "        self.radius = RADIUS * radius\n",
    "        self.x = SUN + self.pos[0][:] * SCALE  #positions on the screen\n",
    "        self.y = SUN + self.pos[1][:] * SCALE\n",
    "        self.name = name\n",
    "        self.color = color\n",
    "        self.year = year_l   #earth days per planet year\n",
    "        self.pic_name = pic\n",
    "        self.avg_to_earth = []\n",
    "        \n",
    "        \n",
    "        if name !='Earth': #distance to earth is calculated for all planets except Earth\n",
    "            self.to_earth_distance = (self.at_tr - Earth.at_tr).distance().au\n",
    "        \n",
    "    \n",
    "\n",
    "Earth = Planet('earth','Earth',1,GREEN,365,'/earth.png')\n",
    "\n",
    "Mercury = Planet(1, 'Mercury', 1, DARK_GREY,88,'/mercury.png')\n",
    "Venus = Planet('venus', 'Venus', 1, ORANGE,225,'/venus.png')\n",
    "Mars = Planet(4, 'Mars', 1, RED,687,'/mars.png')\n",
    "Jupyter = Planet(5, 'Jupyter', 2.5, DARK_ORANGE,4329,'/jupyter.png')\n",
    "\n",
    "\n",
    "\n",
    "\n",
    "\n",
    "Planets = [Earth, Mercury, Venus, Mars,Jupyter]\n",
    "Other_Planets = [Mercury, Venus, Mars,Jupyter]\n",
    "\n"
   ]
  },
  {
   "cell_type": "code",
   "execution_count": 5,
   "metadata": {},
   "outputs": [],
   "source": [
    "#CORDS FOR 1 CIRCLE OF ORBIT\n",
    "for planet in Planets:\n",
    "    planet.orbit_cords = [(planet.x[i],planet.y[i]) for i in range(planet.year)]"
   ]
  },
  {
   "cell_type": "code",
   "execution_count": 6,
   "metadata": {},
   "outputs": [],
   "source": [
    "#GET LIST OF CLOSEST PLANETS FOR EVERY DAY\n",
    "closest_planets = [] \n",
    "for z in zip(Mercury.to_earth_distance,Venus.to_earth_distance,Mars.to_earth_distance,Jupyter.to_earth_distance):\n",
    "    closest_planets.append(Other_Planets[z.index(min(z))])\n"
   ]
  },
  {
   "cell_type": "code",
   "execution_count": 7,
   "metadata": {},
   "outputs": [],
   "source": [
    "#history of percentages being closest to earth\n",
    "for planet in Other_Planets:\n",
    "    planet.days_closest = 0\n",
    "    planet.perc = [0]\n",
    "for days_elapsed, i in enumerate(time_range):\n",
    "    cl_planet = closest_planets[days_elapsed]\n",
    "    cl_planet.days_closest +=1\n",
    "    \n",
    "    for planet in Other_Planets:\n",
    "        \n",
    "        planet.perc.append(round(100*planet.days_closest / (days_elapsed+1),2) )\n",
    "\n",
    "# for planet in Other_Planets:\n",
    "#     planet.perc = closest_planets.count(planet)*100/len(time_range)\n",
    "#     print(f'{planet.name} is closest to Earth {planet.perc}% of time')"
   ]
  },
  {
   "cell_type": "code",
   "execution_count": 8,
   "metadata": {},
   "outputs": [],
   "source": [
    "#GET LIST OF AVERAGE DISTANCE TO EARTH FROM DAY 0 TO CURRENT DAY\n",
    "for i in range(len(time_range)):\n",
    "    for planet in Other_Planets:\n",
    "        planet.avg_to_earth.append(round(np.mean(planet.to_earth_distance[:i+1]),4))\n",
    "        \n",
    "#GET AVERAGE DISTANCE FOR THE WHOLE PERIOD\n",
    "# for planet in Other_Planets:\n",
    "#     planet.avg_to_earth = round(np.mean(planet.to_earth_distance),4)\n",
    "#     print(f'avg distance from {planet.name} to Earth is {planet.avg_to_earth}')\n"
   ]
  },
  {
   "cell_type": "code",
   "execution_count": 9,
   "metadata": {},
   "outputs": [],
   "source": [
    "class StopExecution(Exception):\n",
    "    def _render_traceback_(self):\n",
    "        pass"
   ]
  },
  {
   "cell_type": "markdown",
   "metadata": {},
   "source": [
    "# Animations"
   ]
  },
  {
   "cell_type": "code",
   "execution_count": 10,
   "metadata": {},
   "outputs": [],
   "source": [
    "class Button():\n",
    "    def __init__(self,x,y,image,scale):\n",
    "        width,height = image.get_width(),image.get_height()\n",
    "        self.image = pygame.transform.scale(image,((int(width*scale)),int(height*scale)))\n",
    "        self.rect = self.image.get_rect()\n",
    "        self.rect.topleft = (x,y)\n",
    "        self.clicked = False\n",
    "        \n",
    "    def draw_pause_play(self,win):\n",
    "        pos = pygame.mouse.get_pos()\n",
    "        self.clicked = False\n",
    "        if self.rect.collidepoint(pos):\n",
    "            if pygame.mouse.get_pressed()[0]:\n",
    "                self.clicked = True\n",
    "                time.sleep(0.2)\n",
    "        win.blit(self.image,(self.rect.x,self.rect.y))\n",
    "        return self.clicked\n",
    "    def draw_arrow(self,win,s):\n",
    "        win.blit(self.image,(self.rect.x,self.rect.y))\n",
    "        pos = pygame.mouse.get_pos()\n",
    "        if self.rect.collidepoint(pos) and pygame.mouse.get_pressed()[0]:\n",
    "            \n",
    "            time.sleep(0.2)\n",
    "            \n",
    "            global FPS \n",
    "            FPS = FPS + 30*s\n",
    "            \n",
    "        "
   ]
  },
  {
   "cell_type": "code",
   "execution_count": 11,
   "metadata": {},
   "outputs": [],
   "source": [
    "pygame.init()\n",
    "global FPS \n",
    "FPS = 120\n",
    "a = 120\n",
    "WIDTH, HEIGHT = 1400, 750\n",
    "WIN = pygame.display.set_mode((WIDTH, HEIGHT))\n",
    "pygame.display.set_caption(\"PLanet Animation\")\n",
    "\n",
    "FONT = pygame.font.SysFont(\"comicsans\", 24)\n",
    "smaller_FONT = pygame.font.SysFont(\"comicsans\", 16)\n",
    "\n",
    "#loading images (not planets)\n",
    "bg_pic = pygame.image.load('./pictures/space.jpg').convert_alpha()\n",
    "bg_pic = pygame.transform.scale(bg_pic, (WIDTH, HEIGHT))\n",
    "pause_image = pygame.image.load('./pictures/pause.png').convert_alpha()\n",
    "play_image = pygame.image.load('./pictures/play.png').convert_alpha()\n",
    "arrowForward_image = pygame.image.load('./pictures/button_fast_forward.png').convert_alpha()\n",
    "arrowBack_image = pygame.transform.flip(arrowForward_image,1,0)\n",
    "\n",
    "#creating button objects\n",
    "pause_button = Button(500, 20, pause_image, 0.7)\n",
    "play_button = Button(500, 20, play_image, 0.7)\n",
    "fastF_button = Button(700,20,arrowForward_image,0.7)\n",
    "fastB_button = Button(600,20,arrowBack_image,0.7)\n",
    "\n",
    "\n",
    "def draw(win, i):\n",
    "    update_images(i)\n",
    "\n",
    "    #draw every planet and orbit\n",
    "    for planet in Planets:\n",
    "        pygame.draw.lines(win, planet.color, True, planet.orbit_cords)\n",
    "        win.blit(planet.pic, planet.rect)\n",
    "\n",
    "    #draw sun\n",
    "    win.blit(sun_pic, sun_rect)\n",
    "    \n",
    "    #draw line connecting closest planet and earth at the moment\n",
    "    pygame.draw.line(win, WHITE, (Earth.x[i], Earth.y[i]),\n",
    "                     (closest_planets[i].x[i], closest_planets[i].y[i]))\n",
    "\n",
    "    #show current date\n",
    "    date_text = FONT.render(time_range[i].utc_strftime(), 1, WHITE)\n",
    "    win.blit(date_text, (20, 20))\n",
    "\n",
    "    #SHOW TABLE\n",
    "    win.blit(smaller_FONT.render(f'% of time being|                   |', 1, WHITE),\n",
    "                 (835, 100))\n",
    "    win.blit(smaller_FONT.render(f'closest to Earth|                   |', 1, WHITE),\n",
    "                 (830, 120))\n",
    "    win.blit(smaller_FONT.render(f'avg distance', 1, WHITE),\n",
    "                 (960, 110))\n",
    "    win.blit(smaller_FONT.render(f'current distance', 1, WHITE),\n",
    "                 (1060, 110))\n",
    "\n",
    "\n",
    "    for planet, height in zip(Other_Planets, [145, 170, 195, 220]):\n",
    "        win.blit(FONT.render(f'{planet.name}:', 1, WHITE),\n",
    "                 (750, height))\n",
    "        win.blit(FONT.render(f'{planet.perc[i]} %', 1, WHITE),\n",
    "                 (860, height))\n",
    "                 \n",
    "        win.blit(FONT.render(f'|{planet.avg_to_earth[i]}', 1, WHITE),\n",
    "                 (950, height))\n",
    "\n",
    "        win.blit(FONT.render(f'|{round(planet.to_earth_distance[i],4)}', 1, WHITE),\n",
    "                 (1050, height))\n",
    "        \n",
    "\n",
    "    #draw FPS counter\n",
    "    win.blit(FONT.render(f'{FPS}дней/сек', 1, WHITE), (350, 20))\n",
    "\n",
    "#planets and sun images initialization \n",
    "def load_images():\n",
    "    for planet in Planets:\n",
    "        pic = pygame.image.load(f'./pictures{planet.pic_name}')\n",
    "        planet.pic = pygame.transform.scale(pic,(planet.radius,planet.radius))\n",
    "\n",
    "    global sun_pic,sun_rect\n",
    "    sun_pic = pygame.transform.scale(pygame.image.load('./pictures/sun.png'),(RADIUS,RADIUS))\n",
    "    sun_rect = sun_pic.get_rect()\n",
    "    sun_rect.center = SUN,SUN\n",
    "\n",
    "#correcting rectangle center with each step\n",
    "def update_images(i):\n",
    "    for planet in Planets:\n",
    "        planet.rect = planet.pic.get_rect()\n",
    "        planet.rect.center = planet.x[i], planet.y[i]\n",
    "    \n",
    "\n",
    "def main():\n",
    "    run = True\n",
    "    paused = True\n",
    "    clock = pygame.time.Clock()\n",
    "    load_images()\n",
    "    i = 0\n",
    "\n",
    "    while run:\n",
    "        try:\n",
    "\n",
    "            clock.tick(FPS)\n",
    "            WIN.blit(bg_pic, (0, 0))\n",
    "\n",
    "            for event in pygame.event.get():\n",
    "                if event.type == pygame.QUIT:\n",
    "                    run = False\n",
    "\n",
    "            draw(WIN, i)\n",
    "\n",
    "            #FPS CHANGE\n",
    "            fastF_button.draw_arrow(WIN,1)\n",
    "            fastB_button.draw_arrow(WIN,-1)\n",
    "            #FPS CHANGE\n",
    "\n",
    "            #PAUSE\n",
    "            if not paused:\n",
    "                i += 1\n",
    "                if pause_button.draw_pause_play(WIN):\n",
    "                    paused = not paused\n",
    "            else:\n",
    "                if play_button.draw_pause_play(WIN):\n",
    "                    paused = not paused\n",
    "            #PAUSE\n",
    "\n",
    "            pygame.display.update()\n",
    "\n",
    "        except:\n",
    "            pygame.quit()\n",
    "            raise StopExecution\n",
    "    pygame.quit()\n",
    "\n",
    "\n",
    "main()\n"
   ]
  },
  {
   "cell_type": "markdown",
   "metadata": {},
   "source": [
    "# Result"
   ]
  },
  {
   "cell_type": "code",
   "execution_count": 13,
   "metadata": {},
   "outputs": [
    {
     "ename": "ValueError",
     "evalue": "x must be 1D",
     "output_type": "error",
     "traceback": [
      "\u001b[1;31m---------------------------------------------------------------------------\u001b[0m",
      "\u001b[1;31mValueError\u001b[0m                                Traceback (most recent call last)",
      "\u001b[1;32mc:\\Users\\cambo\\Documents\\repos\\python\\Planet animation; Numerical Experiment\\numexp.ipynb Ячейка 15\u001b[0m in \u001b[0;36m<cell line: 4>\u001b[1;34m()\u001b[0m\n\u001b[0;32m      <a href='vscode-notebook-cell:/c%3A/Users/cambo/Documents/repos/python/Planet%20animation%3B%20Numerical%20Experiment/numexp.ipynb#X20sZmlsZQ%3D%3D?line=1'>2</a>\u001b[0m info \u001b[39m=\u001b[39m [planet\u001b[39m.\u001b[39mperc \u001b[39mfor\u001b[39;00m planet \u001b[39min\u001b[39;00m Other_Planets[:\u001b[39m-\u001b[39m\u001b[39m1\u001b[39m]]\n\u001b[0;32m      <a href='vscode-notebook-cell:/c%3A/Users/cambo/Documents/repos/python/Planet%20animation%3B%20Numerical%20Experiment/numexp.ipynb#X20sZmlsZQ%3D%3D?line=2'>3</a>\u001b[0m labels \u001b[39m=\u001b[39m \u001b[39m'\u001b[39m\u001b[39mМеркурий\u001b[39m\u001b[39m'\u001b[39m,\u001b[39m'\u001b[39m\u001b[39mВенера\u001b[39m\u001b[39m'\u001b[39m,\u001b[39m'\u001b[39m\u001b[39mМарс\u001b[39m\u001b[39m'\u001b[39m\n\u001b[1;32m----> <a href='vscode-notebook-cell:/c%3A/Users/cambo/Documents/repos/python/Planet%20animation%3B%20Numerical%20Experiment/numexp.ipynb#X20sZmlsZQ%3D%3D?line=3'>4</a>\u001b[0m p,t,autotexts \u001b[39m=\u001b[39m ax\u001b[39m.\u001b[39;49mpie(info, colors\u001b[39m=\u001b[39;49m[\u001b[39m'\u001b[39;49m\u001b[39mtab:gray\u001b[39;49m\u001b[39m'\u001b[39;49m,\u001b[39m'\u001b[39;49m\u001b[39mtab:orange\u001b[39;49m\u001b[39m'\u001b[39;49m,\u001b[39m'\u001b[39;49m\u001b[39mtab:red\u001b[39;49m\u001b[39m'\u001b[39;49m], autopct\u001b[39m=\u001b[39;49m\u001b[39m'\u001b[39;49m\u001b[39m%1.2f\u001b[39;49;00m\u001b[39m%%\u001b[39;49;00m\u001b[39m'\u001b[39;49m, labels \u001b[39m=\u001b[39;49m labels,\n\u001b[0;32m      <a href='vscode-notebook-cell:/c%3A/Users/cambo/Documents/repos/python/Planet%20animation%3B%20Numerical%20Experiment/numexp.ipynb#X20sZmlsZQ%3D%3D?line=4'>5</a>\u001b[0m        wedgeprops\u001b[39m=\u001b[39;49m{\u001b[39m\"\u001b[39;49m\u001b[39mlinewidth\u001b[39;49m\u001b[39m\"\u001b[39;49m: \u001b[39m1\u001b[39;49m, \u001b[39m\"\u001b[39;49m\u001b[39medgecolor\u001b[39;49m\u001b[39m\"\u001b[39;49m: \u001b[39m\"\u001b[39;49m\u001b[39mwhite\u001b[39;49m\u001b[39m\"\u001b[39;49m},\n\u001b[0;32m      <a href='vscode-notebook-cell:/c%3A/Users/cambo/Documents/repos/python/Planet%20animation%3B%20Numerical%20Experiment/numexp.ipynb#X20sZmlsZQ%3D%3D?line=5'>6</a>\u001b[0m        textprops\u001b[39m=\u001b[39;49m{\u001b[39m'\u001b[39;49m\u001b[39mfontsize\u001b[39;49m\u001b[39m'\u001b[39;49m: \u001b[39m16\u001b[39;49m,\u001b[39m'\u001b[39;49m\u001b[39mcolor\u001b[39;49m\u001b[39m'\u001b[39;49m : \u001b[39m'\u001b[39;49m\u001b[39mblack\u001b[39;49m\u001b[39m'\u001b[39;49m},\n\u001b[0;32m      <a href='vscode-notebook-cell:/c%3A/Users/cambo/Documents/repos/python/Planet%20animation%3B%20Numerical%20Experiment/numexp.ipynb#X20sZmlsZQ%3D%3D?line=6'>7</a>\u001b[0m        frame\u001b[39m=\u001b[39;49m\u001b[39mTrue\u001b[39;49;00m,startangle\u001b[39m=\u001b[39;49m\u001b[39m90\u001b[39;49m)\n\u001b[0;32m      <a href='vscode-notebook-cell:/c%3A/Users/cambo/Documents/repos/python/Planet%20animation%3B%20Numerical%20Experiment/numexp.ipynb#X20sZmlsZQ%3D%3D?line=7'>8</a>\u001b[0m plt\u001b[39m.\u001b[39msetp(autotexts, size\u001b[39m=\u001b[39m\u001b[39m20\u001b[39m, weight\u001b[39m=\u001b[39m\u001b[39m\"\u001b[39m\u001b[39mbold\u001b[39m\u001b[39m\"\u001b[39m)\n\u001b[0;32m      <a href='vscode-notebook-cell:/c%3A/Users/cambo/Documents/repos/python/Planet%20animation%3B%20Numerical%20Experiment/numexp.ipynb#X20sZmlsZQ%3D%3D?line=8'>9</a>\u001b[0m \u001b[39m# plt.title(\"Процент времени, который планета является ближайшей к Земле\",fontsize =15)\u001b[39;00m\n",
      "File \u001b[1;32mc:\\Users\\cambo\\AppData\\Local\\Programs\\Python\\Python310\\lib\\site-packages\\matplotlib\\__init__.py:1423\u001b[0m, in \u001b[0;36m_preprocess_data.<locals>.inner\u001b[1;34m(ax, data, *args, **kwargs)\u001b[0m\n\u001b[0;32m   1420\u001b[0m \u001b[39m@functools\u001b[39m\u001b[39m.\u001b[39mwraps(func)\n\u001b[0;32m   1421\u001b[0m \u001b[39mdef\u001b[39;00m \u001b[39minner\u001b[39m(ax, \u001b[39m*\u001b[39margs, data\u001b[39m=\u001b[39m\u001b[39mNone\u001b[39;00m, \u001b[39m*\u001b[39m\u001b[39m*\u001b[39mkwargs):\n\u001b[0;32m   1422\u001b[0m     \u001b[39mif\u001b[39;00m data \u001b[39mis\u001b[39;00m \u001b[39mNone\u001b[39;00m:\n\u001b[1;32m-> 1423\u001b[0m         \u001b[39mreturn\u001b[39;00m func(ax, \u001b[39m*\u001b[39m\u001b[39mmap\u001b[39m(sanitize_sequence, args), \u001b[39m*\u001b[39m\u001b[39m*\u001b[39mkwargs)\n\u001b[0;32m   1425\u001b[0m     bound \u001b[39m=\u001b[39m new_sig\u001b[39m.\u001b[39mbind(ax, \u001b[39m*\u001b[39margs, \u001b[39m*\u001b[39m\u001b[39m*\u001b[39mkwargs)\n\u001b[0;32m   1426\u001b[0m     auto_label \u001b[39m=\u001b[39m (bound\u001b[39m.\u001b[39marguments\u001b[39m.\u001b[39mget(label_namer)\n\u001b[0;32m   1427\u001b[0m                   \u001b[39mor\u001b[39;00m bound\u001b[39m.\u001b[39mkwargs\u001b[39m.\u001b[39mget(label_namer))\n",
      "File \u001b[1;32mc:\\Users\\cambo\\AppData\\Local\\Programs\\Python\\Python310\\lib\\site-packages\\matplotlib\\axes\\_axes.py:3154\u001b[0m, in \u001b[0;36mAxes.pie\u001b[1;34m(self, x, explode, labels, colors, autopct, pctdistance, shadow, labeldistance, startangle, radius, counterclock, wedgeprops, textprops, center, frame, rotatelabels, normalize)\u001b[0m\n\u001b[0;32m   3152\u001b[0m x \u001b[39m=\u001b[39m np\u001b[39m.\u001b[39masarray(x, np\u001b[39m.\u001b[39mfloat32)\n\u001b[0;32m   3153\u001b[0m \u001b[39mif\u001b[39;00m x\u001b[39m.\u001b[39mndim \u001b[39m>\u001b[39m \u001b[39m1\u001b[39m:\n\u001b[1;32m-> 3154\u001b[0m     \u001b[39mraise\u001b[39;00m \u001b[39mValueError\u001b[39;00m(\u001b[39m\"\u001b[39m\u001b[39mx must be 1D\u001b[39m\u001b[39m\"\u001b[39m)\n\u001b[0;32m   3156\u001b[0m \u001b[39mif\u001b[39;00m np\u001b[39m.\u001b[39many(x \u001b[39m<\u001b[39m \u001b[39m0\u001b[39m):\n\u001b[0;32m   3157\u001b[0m     \u001b[39mraise\u001b[39;00m \u001b[39mValueError\u001b[39;00m(\u001b[39m\"\u001b[39m\u001b[39mWedge sizes \u001b[39m\u001b[39m'\u001b[39m\u001b[39mx\u001b[39m\u001b[39m'\u001b[39m\u001b[39m must be non negative values\u001b[39m\u001b[39m\"\u001b[39m)\n",
      "\u001b[1;31mValueError\u001b[0m: x must be 1D"
     ]
    },
    {
     "data": {
      "image/png": "[encoded data removed]",
      "text/plain": [
       "<Figure size 432x288 with 1 Axes>"
      ]
     },
     "metadata": {
      "needs_background": "light"
     },
     "output_type": "display_data"
    }
   ],
   "source": [
    "fig, ax = plt.subplots()\n",
    "info = [planet.perc for planet in Other_Planets[:-1]]\n",
    "labels = 'Меркурий','Венера','Марс'\n",
    "p,t,autotexts = ax.pie(info, colors=['tab:gray','tab:orange','tab:red'], autopct='%1.2f%%', labels = labels,\n",
    "       wedgeprops={\"linewidth\": 1, \"edgecolor\": \"white\"},\n",
    "       textprops={'fontsize': 16,'color' : 'black'},\n",
    "       frame=True,startangle=90)\n",
    "plt.setp(autotexts, size=20, weight=\"bold\")\n",
    "# plt.title(\"Процент времени, который планета является ближайшей к Земле\",fontsize =15)\n",
    "\n",
    "plt.axis('off')\n",
    "# plt.savefig('sample.png',bbox_inches='tight')\n",
    "plt.show()"
   ]
  },
  {
   "cell_type": "code",
   "execution_count": null,
   "metadata": {},
   "outputs": [],
   "source": [
    "fig, ax = plt.subplots()\n",
    "info = [planet.avg_to_earth for planet in Other_Planets[:-1]]\n",
    "bar = plt.bar((1,8,15),info,4, color=['tab:gray','tab:orange','tab:red'])\n",
    "ax.set_xticks((1,8,15), labels=['Меркурий','Венера','Марс'],size = 15)\n",
    "ax.bar_label(bar,size = 20)\n",
    "plt.title(\"Среднее расстояние до Земли\",fontsize =15)\n",
    "plt.ylabel('а.е.',fontsize = 15)\n",
    "pass\n",
    "# plt.savefig('averages.png',bbox_inches='tight')"
   ]
  },
  {
   "cell_type": "markdown",
   "metadata": {},
   "source": [
    "# Fake result\n"
   ]
  },
  {
   "cell_type": "code",
   "execution_count": null,
   "metadata": {},
   "outputs": [],
   "source": [
    "fig, ax = plt.subplots()\n",
    "info = [46.93,36.78,16.29]\n",
    "labels = 'Меркурий','Венера','Марс'\n",
    "p,t,autotexts = ax.pie(info, colors=['tab:gray','tab:orange','tab:red'], autopct='%1.2f%%', labels = labels,\n",
    "       wedgeprops={\"linewidth\": 1, \"edgecolor\": \"white\"},\n",
    "       textprops={'fontsize': 16,'color' : 'black'},\n",
    "       frame=True,startangle=90)\n",
    "plt.setp(autotexts, size=19, weight=\"bold\")\n",
    "plt.title(\"Процент времени, который планета является ближайшей к Земле\",fontsize =15)\n",
    "\n",
    "plt.axis('off')\n",
    "# plt.savefig('sample.png',bbox_inches='tight')\n",
    "\n",
    "plt.show()"
   ]
  },
  {
   "cell_type": "code",
   "execution_count": null,
   "metadata": {},
   "outputs": [],
   "source": [
    "fig, ax = plt.subplots()\n",
    "info = [1.0392,1.1341,1.702]\n",
    "bar = plt.bar((1,8,15),info,4, color=['tab:gray','tab:orange','tab:red'])\n",
    "ax.set_xticks((1,8,15), labels=['Меркурий','Венера','Марс'],size = 15)\n",
    "ax.bar_label(bar,size = 20)\n",
    "plt.title(\"Среднее расстояние до Земли (5млн дней)\",fontsize =15)\n",
    "plt.ylabel('а.е.',fontsize = 15)"
   ]
  }
 ],
 "metadata": {
  "interpreter": {
   "hash": "ef34a6e219e7b2453b29ead01c5ce98d1681fe62ae1795fde79b011dd2c2b371"
  },
  "kernelspec": {
   "display_name": "Python 3.10.4 64-bit",
   "language": "python",
   "name": "python3"
  },
  "language_info": {
   "codemirror_mode": {
    "name": "ipython",
    "version": 3
   },
   "file_extension": ".py",
   "mimetype": "text/x-python",
   "name": "python",
   "nbconvert_exporter": "python",
   "pygments_lexer": "ipython3",
   "version": "3.10.4"
  },
  "orig_nbformat": 4
 },
 "nbformat": 4,
 "nbformat_minor": 2
}
